{
 "cells": [
  {
   "cell_type": "markdown",
   "metadata": {},
   "source": [
    "# Гордионок М8О-209Б-19 Вар 3 2 1 3"
   ]
  },
  {
   "cell_type": "markdown",
   "metadata": {},
   "source": [
    "## №1\n",
    "Считайте строку из нескольких слов. К каждому слову припишите справа количество букв в слове, и объедините обратно в строку. Результат – в печать."
   ]
  },
  {
   "cell_type": "code",
   "execution_count": 2,
   "metadata": {},
   "outputs": [
    {
     "name": "stdout",
     "output_type": "stream",
     "text": [
      "sdagsabg sa gsa gasjgajsdg\n",
      "sdagsabg8 sa2 gsa3 gasjgajsdg10 \n"
     ]
    }
   ],
   "source": [
    "arr = input('Введите несколько слов: ').split()\n",
    "arr = [i + str(len(i)) for i in arr]\n",
    "s = ''\n",
    "for i in arr:\n",
    "    s += i + ' '\n",
    "    \n",
    "print(s)"
   ]
  },
  {
   "cell_type": "markdown",
   "metadata": {},
   "source": [
    "## №2\n",
    "Считайте строку, считайте символ. Выведите на печать строку, в которой этот символ вырезан. Пример: aasdfsasd, a -> sdfssd."
   ]
  },
  {
   "cell_type": "code",
   "execution_count": 4,
   "metadata": {},
   "outputs": [
    {
     "name": "stdout",
     "output_type": "stream",
     "text": [
      "Введите строку:qweqweqweqqwqw\n",
      "Введите букву, которую хотите удалить:q\n",
      "weweweww\n"
     ]
    }
   ],
   "source": [
    "string = input('Введите строку: ')\n",
    "symb = input('Введите букву, которую хотите удалить: ')\n",
    "print(string.replace(symb, '')) # 1 вариант"
   ]
  },
  {
   "cell_type": "code",
   "execution_count": 13,
   "metadata": {},
   "outputs": [
    {
     "name": "stdout",
     "output_type": "stream",
     "text": [
      "Введите строку: qwqweqweqweqwrwqe\n",
      "Введите букву, которую хотите удалить: q\n",
      "wwewewewrwe\n"
     ]
    }
   ],
   "source": [
    "string = input('Введите строку: ')\n",
    "symb = input('Введите букву, которую хотите удалить: ')\n",
    "s = list(string)\n",
    "i = 0\n",
    "while i < len(s):\n",
    "    if s[i] == symb:\n",
    "        s.pop(i)\n",
    "    else:\n",
    "        i += 1\n",
    "        \n",
    "print(''.join(s)) # 2 вариант ( на работу с массивами )\n",
    "               "
   ]
  },
  {
   "cell_type": "markdown",
   "metadata": {},
   "source": [
    "## №3\n",
    "Напишите функцию, которая убирает в подаваемой на вход строке все гласные."
   ]
  },
  {
   "cell_type": "code",
   "execution_count": 36,
   "metadata": {},
   "outputs": [],
   "source": [
    "def NoVowels(s):\n",
    "    s = s.replace('e', '').replace('i', '').replace('o', '').replace('a', '').replace('y', '').replace('u', '')\n",
    "    s = s.replace('а', '').replace('е', '').replace('ё', '').replace('и', '').replace('о', '').replace('у', '')\\\n",
    "    .replace('ы', '').replace('э', '').replace('ю', '').replace('я', '')\n",
    "    \n",
    "    return s"
   ]
  },
  {
   "cell_type": "code",
   "execution_count": 37,
   "metadata": {},
   "outputs": [
    {
     "name": "stdout",
     "output_type": "stream",
     "text": [
      "Введите слово: уцпыпфыа пфыа пфып \n",
      "цппф пф пфп\n"
     ]
    }
   ],
   "source": [
    "string = input(\"Введите слово: \").split()\n",
    "print(*list(map(NoVowels, string)))"
   ]
  },
  {
   "cell_type": "markdown",
   "metadata": {},
   "source": [
    "## №4\n",
    "Напишите класс «Обед», в котором находится несколько объектов класса «Еда», которые обладают характеристиками калорийности, вкусности, цены (далее – на вашу фантазию). В Обеде должна быть функция получения характеристики обеда: дешёвый, пойдёт, дорогой; вкусный, так себе, это невозможно есть; на таких харчах ты не дойдёшь до дома, как надо, на таких харчах ты в дом не поместишься (Это примеры по всем характеристикам – плод вашей фантазии)"
   ]
  },
  {
   "cell_type": "code",
   "execution_count": 57,
   "metadata": {},
   "outputs": [],
   "source": [
    "class Food:\n",
    "    cal, mmm, price = 0, 0, 0\n",
    "    def __init__(self, cal, mmm, price):\n",
    "        self.cal = cal\n",
    "        self.mmm = mmm\n",
    "        self.price = price\n",
    "        \n",
    "    def getPrice(self):\n",
    "        return self.price\n",
    "    \n",
    "    def getCal(self):\n",
    "        return self.cal\n",
    "    \n",
    "    def getMmmmm(self):\n",
    "        return self.mmm\n",
    "\n",
    "class Dinner:\n",
    "    menu = []\n",
    "    \n",
    "    def __init__(self, menu):\n",
    "        self.menu = menu\n",
    "        \n",
    "    def addFood(self, food):\n",
    "        self.menu.append(food)\n",
    "    \n",
    "    def getCharacteristic(self): # можно через получение калорий продукта(через food.getCal()), но пусть будет по порциям. \n",
    "        if len(self.menu) < 3:\n",
    "            return 'На таких харчах ты не дойдёшь до дома!'\n",
    "        elif 3 <= len(self.menu) <= 5:\n",
    "            return 'Как надо!'\n",
    "        else:\n",
    "            return 'На таких харчах ты в дом не поместишься!'\n",
    "        \n",
    "    def getPrice(self):\n",
    "        price = 0\n",
    "        for food in self.menu:\n",
    "            price += food.getPrice()\n",
    "            \n",
    "        return price # Вместо слов будет возвращать стоимоть. Стоимость меняется со временем...\n",
    "    \n",
    "    def getMmmmm(self):\n",
    "        rnd = 0\n",
    "        \n",
    "        for food in self.menu:\n",
    "            rnd += food.getMmmmm()\n",
    "            \n",
    "        rnd /= len(self.menu)\n",
    "        rnd = round(rnd)\n",
    "        \n",
    "        if rnd == 0:\n",
    "            return 'Вкусный'\n",
    "        if rnd == 1:\n",
    "            return 'Так себе'\n",
    "        if rnd == 2:\n",
    "            return 'Ужас!!!'\n",
    "        \n",
    "    def getAllCharacteristic(self):\n",
    "        return self.getCharacteristic(), self.getPrice(), self.getMmmmm()"
   ]
  },
  {
   "cell_type": "code",
   "execution_count": 73,
   "metadata": {},
   "outputs": [
    {
     "name": "stdout",
     "output_type": "stream",
     "text": [
      "('На таких харчах ты в дом не поместишься!', 1560, 'Вкусный')\n"
     ]
    }
   ],
   "source": [
    "list_of_food = []\n",
    "r = random.randint(1, 7)\n",
    "for i in range(r):\n",
    "    a, b, c = random.randint(0, 1000), random.randint(0, 2), random.randint(50, 400)\n",
    "    list_of_food.append(Food(a, b, c))\n",
    "    \n",
    "dinner = Dinner(list_of_food)\n",
    "print(dinner.getAllCharacteristic())"
   ]
  },
  {
   "cell_type": "code",
   "execution_count": null,
   "metadata": {},
   "outputs": [],
   "source": []
  },
  {
   "cell_type": "code",
   "execution_count": null,
   "metadata": {},
   "outputs": [],
   "source": []
  }
 ],
 "metadata": {
  "kernelspec": {
   "display_name": "Python 3",
   "language": "python",
   "name": "python3"
  },
  "language_info": {
   "codemirror_mode": {
    "name": "ipython",
    "version": 3
   },
   "file_extension": ".py",
   "mimetype": "text/x-python",
   "name": "python",
   "nbconvert_exporter": "python",
   "pygments_lexer": "ipython3",
   "version": "3.8.3"
  }
 },
 "nbformat": 4,
 "nbformat_minor": 4
}
